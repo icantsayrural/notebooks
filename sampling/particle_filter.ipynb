{
 "cells": [
  {
   "cell_type": "markdown",
   "metadata": {},
   "source": [
    "## Particle Filtering\n",
    "\n",
    "An unknown, arbitrary distribution can be described with a set of <b>particles</b>. The density of particles in one area of state space represents the probability of that region. The objective of a particle filter is to estimate the posterior density of the state variables given the observed variables.\n",
    "\n",
    "### Signal-Observation Model\n",
    "Let $X$ be the state (hidden) variables and $Y$ be the observed variables at time steps $t = 0, 1, 2, \\cdots$\n",
    "\n",
    "Given:\n",
    "- $\\pi(x_{0})$, the prior belief of each segment in state space\n",
    "- $f(x_{t}|x_{t-1})$, the transition kernel\n",
    "- $g(y_{t}|x_{t})$, the likelihood\n",
    "\n",
    "We can recursively compute the posterior distribution via:\n",
    "$$p(x_{t+1}|y_{0:t+1}) \\propto g(y_{t+1}|x_{t+1}) \\sum_{x_{t}} f(x_{t+1}|x_{t})p(x_{t}|y_{0:t})$$\n",
    "\n",
    "### Algorithm\n",
    "At each time step $t$:\n",
    "- <b>Prediction</b>: Sample $N$ particles from $f(x_{t+1}|x_{t})$\n",
    "- <b>Update</b>: Assign importance weight $w = \\frac{f(x_{t+1}|x_{t})}{p(x_{t+1}|y_{0:t+1})}$ to each particle. At this point, you can use the highest-weighted particle as your best-guess state.\n",
    "- <b>Resample</b>: To properly represent the underlying probability distribution, we'd want the density of particles in each segment of the state space to be proportional to the actual probability of that segment. We do this by drawing particles (with replacement) according to the importance weights (i.e. high-weighted particles will be chosen a lot of times).\n",
    "\n",
    "Note: resampling is important because it prevents particle depletion, which is a phenomena where highly unlikely particles transition to more unlikely states with almost-nil probability."
   ]
  }
 ],
 "metadata": {
  "kernelspec": {
   "display_name": "Python 2",
   "language": "python",
   "name": "python2"
  },
  "language_info": {
   "codemirror_mode": {
    "name": "ipython",
    "version": 2
   },
   "file_extension": ".py",
   "mimetype": "text/x-python",
   "name": "python",
   "nbconvert_exporter": "python",
   "pygments_lexer": "ipython2",
   "version": "2.7.12"
  }
 },
 "nbformat": 4,
 "nbformat_minor": 2
}
